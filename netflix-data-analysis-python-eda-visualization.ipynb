{
 "cells": [
  {
   "cell_type": "code",
   "execution_count": 1,
   "id": "7976eeda",
   "metadata": {
    "_cell_guid": "b1076dfc-b9ad-4769-8c92-a6c4dae69d19",
    "_uuid": "8f2839f25d086af736a60e9eeb907d3b93b6e0e5",
    "execution": {
     "iopub.execute_input": "2025-06-16T17:06:58.881399Z",
     "iopub.status.busy": "2025-06-16T17:06:58.881026Z",
     "iopub.status.idle": "2025-06-16T17:07:00.857915Z",
     "shell.execute_reply": "2025-06-16T17:07:00.856741Z"
    },
    "papermill": {
     "duration": 1.98334,
     "end_time": "2025-06-16T17:07:00.859576",
     "exception": false,
     "start_time": "2025-06-16T17:06:58.876236",
     "status": "completed"
    },
    "tags": []
   },
   "outputs": [
    {
     "name": "stdout",
     "output_type": "stream",
     "text": [
      "/kaggle/input/netflix-shows/netflix_titles.csv\n"
     ]
    }
   ],
   "source": [
    "# This Python 3 environment comes with many helpful analytics libraries installed\n",
    "# It is defined by the kaggle/python Docker image: https://github.com/kaggle/docker-python\n",
    "# For example, here's several helpful packages to load\n",
    "\n",
    "import numpy as np # linear algebra\n",
    "import pandas as pd # data processing, CSV file I/O (e.g. pd.read_csv)\n",
    "\n",
    "# Input data files are available in the read-only \"../input/\" directory\n",
    "# For example, running this (by clicking run or pressing Shift+Enter) will list all files under the input directory\n",
    "\n",
    "import os\n",
    "for dirname, _, filenames in os.walk('/kaggle/input'):\n",
    "    for filename in filenames:\n",
    "        print(os.path.join(dirname, filename))\n",
    "\n",
    "# You can write up to 20GB to the current directory (/kaggle/working/) that gets preserved as output when you create a version using \"Save & Run All\" \n",
    "# You can also write temporary files to /kaggle/temp/, but they won't be saved outside of the current session"
   ]
  },
  {
   "cell_type": "markdown",
   "id": "5296bf43",
   "metadata": {
    "papermill": {
     "duration": 0.002592,
     "end_time": "2025-06-16T17:07:00.866170",
     "exception": false,
     "start_time": "2025-06-16T17:07:00.863578",
     "status": "completed"
    },
    "tags": []
   },
   "source": [
    "# 📺 Netflix Data Analysis\n",
    "\n",
    "This project explores the Netflix dataset to understand the types of content available on the platform, trends over the years, country-wise distribution, and genre popularity. The goal is to practice data cleaning, visualization, and analytical thinking using Python, Pandas, and Matplotlib/Seaborn.\n",
    "\n",
    "### 🔧 Tools Used:\n",
    "- Python\n",
    "- Pandas\n",
    "- Matplotlib\n",
    "- Seaborn\n"
   ]
  },
  {
   "cell_type": "code",
   "execution_count": 2,
   "id": "6de6d9f1",
   "metadata": {
    "execution": {
     "iopub.execute_input": "2025-06-16T17:07:00.873047Z",
     "iopub.status.busy": "2025-06-16T17:07:00.872627Z",
     "iopub.status.idle": "2025-06-16T17:07:01.025304Z",
     "shell.execute_reply": "2025-06-16T17:07:01.024287Z"
    },
    "papermill": {
     "duration": 0.157781,
     "end_time": "2025-06-16T17:07:01.026766",
     "exception": false,
     "start_time": "2025-06-16T17:07:00.868985",
     "status": "completed"
    },
    "tags": []
   },
   "outputs": [
    {
     "data": {
      "text/html": [
       "<div>\n",
       "<style scoped>\n",
       "    .dataframe tbody tr th:only-of-type {\n",
       "        vertical-align: middle;\n",
       "    }\n",
       "\n",
       "    .dataframe tbody tr th {\n",
       "        vertical-align: top;\n",
       "    }\n",
       "\n",
       "    .dataframe thead th {\n",
       "        text-align: right;\n",
       "    }\n",
       "</style>\n",
       "<table border=\"1\" class=\"dataframe\">\n",
       "  <thead>\n",
       "    <tr style=\"text-align: right;\">\n",
       "      <th></th>\n",
       "      <th>show_id</th>\n",
       "      <th>type</th>\n",
       "      <th>title</th>\n",
       "      <th>director</th>\n",
       "      <th>cast</th>\n",
       "      <th>country</th>\n",
       "      <th>date_added</th>\n",
       "      <th>release_year</th>\n",
       "      <th>rating</th>\n",
       "      <th>duration</th>\n",
       "      <th>listed_in</th>\n",
       "      <th>description</th>\n",
       "    </tr>\n",
       "  </thead>\n",
       "  <tbody>\n",
       "    <tr>\n",
       "      <th>0</th>\n",
       "      <td>s1</td>\n",
       "      <td>Movie</td>\n",
       "      <td>Dick Johnson Is Dead</td>\n",
       "      <td>Kirsten Johnson</td>\n",
       "      <td>NaN</td>\n",
       "      <td>United States</td>\n",
       "      <td>September 25, 2021</td>\n",
       "      <td>2020</td>\n",
       "      <td>PG-13</td>\n",
       "      <td>90 min</td>\n",
       "      <td>Documentaries</td>\n",
       "      <td>As her father nears the end of his life, filmm...</td>\n",
       "    </tr>\n",
       "    <tr>\n",
       "      <th>1</th>\n",
       "      <td>s2</td>\n",
       "      <td>TV Show</td>\n",
       "      <td>Blood &amp; Water</td>\n",
       "      <td>NaN</td>\n",
       "      <td>Ama Qamata, Khosi Ngema, Gail Mabalane, Thaban...</td>\n",
       "      <td>South Africa</td>\n",
       "      <td>September 24, 2021</td>\n",
       "      <td>2021</td>\n",
       "      <td>TV-MA</td>\n",
       "      <td>2 Seasons</td>\n",
       "      <td>International TV Shows, TV Dramas, TV Mysteries</td>\n",
       "      <td>After crossing paths at a party, a Cape Town t...</td>\n",
       "    </tr>\n",
       "    <tr>\n",
       "      <th>2</th>\n",
       "      <td>s3</td>\n",
       "      <td>TV Show</td>\n",
       "      <td>Ganglands</td>\n",
       "      <td>Julien Leclercq</td>\n",
       "      <td>Sami Bouajila, Tracy Gotoas, Samuel Jouy, Nabi...</td>\n",
       "      <td>NaN</td>\n",
       "      <td>September 24, 2021</td>\n",
       "      <td>2021</td>\n",
       "      <td>TV-MA</td>\n",
       "      <td>1 Season</td>\n",
       "      <td>Crime TV Shows, International TV Shows, TV Act...</td>\n",
       "      <td>To protect his family from a powerful drug lor...</td>\n",
       "    </tr>\n",
       "    <tr>\n",
       "      <th>3</th>\n",
       "      <td>s4</td>\n",
       "      <td>TV Show</td>\n",
       "      <td>Jailbirds New Orleans</td>\n",
       "      <td>NaN</td>\n",
       "      <td>NaN</td>\n",
       "      <td>NaN</td>\n",
       "      <td>September 24, 2021</td>\n",
       "      <td>2021</td>\n",
       "      <td>TV-MA</td>\n",
       "      <td>1 Season</td>\n",
       "      <td>Docuseries, Reality TV</td>\n",
       "      <td>Feuds, flirtations and toilet talk go down amo...</td>\n",
       "    </tr>\n",
       "    <tr>\n",
       "      <th>4</th>\n",
       "      <td>s5</td>\n",
       "      <td>TV Show</td>\n",
       "      <td>Kota Factory</td>\n",
       "      <td>NaN</td>\n",
       "      <td>Mayur More, Jitendra Kumar, Ranjan Raj, Alam K...</td>\n",
       "      <td>India</td>\n",
       "      <td>September 24, 2021</td>\n",
       "      <td>2021</td>\n",
       "      <td>TV-MA</td>\n",
       "      <td>2 Seasons</td>\n",
       "      <td>International TV Shows, Romantic TV Shows, TV ...</td>\n",
       "      <td>In a city of coaching centers known to train I...</td>\n",
       "    </tr>\n",
       "  </tbody>\n",
       "</table>\n",
       "</div>"
      ],
      "text/plain": [
       "  show_id     type                  title         director  \\\n",
       "0      s1    Movie   Dick Johnson Is Dead  Kirsten Johnson   \n",
       "1      s2  TV Show          Blood & Water              NaN   \n",
       "2      s3  TV Show              Ganglands  Julien Leclercq   \n",
       "3      s4  TV Show  Jailbirds New Orleans              NaN   \n",
       "4      s5  TV Show           Kota Factory              NaN   \n",
       "\n",
       "                                                cast        country  \\\n",
       "0                                                NaN  United States   \n",
       "1  Ama Qamata, Khosi Ngema, Gail Mabalane, Thaban...   South Africa   \n",
       "2  Sami Bouajila, Tracy Gotoas, Samuel Jouy, Nabi...            NaN   \n",
       "3                                                NaN            NaN   \n",
       "4  Mayur More, Jitendra Kumar, Ranjan Raj, Alam K...          India   \n",
       "\n",
       "           date_added  release_year rating   duration  \\\n",
       "0  September 25, 2021          2020  PG-13     90 min   \n",
       "1  September 24, 2021          2021  TV-MA  2 Seasons   \n",
       "2  September 24, 2021          2021  TV-MA   1 Season   \n",
       "3  September 24, 2021          2021  TV-MA   1 Season   \n",
       "4  September 24, 2021          2021  TV-MA  2 Seasons   \n",
       "\n",
       "                                           listed_in  \\\n",
       "0                                      Documentaries   \n",
       "1    International TV Shows, TV Dramas, TV Mysteries   \n",
       "2  Crime TV Shows, International TV Shows, TV Act...   \n",
       "3                             Docuseries, Reality TV   \n",
       "4  International TV Shows, Romantic TV Shows, TV ...   \n",
       "\n",
       "                                         description  \n",
       "0  As her father nears the end of his life, filmm...  \n",
       "1  After crossing paths at a party, a Cape Town t...  \n",
       "2  To protect his family from a powerful drug lor...  \n",
       "3  Feuds, flirtations and toilet talk go down amo...  \n",
       "4  In a city of coaching centers known to train I...  "
      ]
     },
     "execution_count": 2,
     "metadata": {},
     "output_type": "execute_result"
    }
   ],
   "source": [
    "import pandas as pd\n",
    "df = pd.read_csv('/kaggle/input/netflix-shows/netflix_titles.csv')\n",
    "df.head()\n"
   ]
  },
  {
   "cell_type": "markdown",
   "id": "184609ea",
   "metadata": {
    "papermill": {
     "duration": 0.002944,
     "end_time": "2025-06-16T17:07:01.033207",
     "exception": false,
     "start_time": "2025-06-16T17:07:01.030263",
     "status": "completed"
    },
    "tags": []
   },
   "source": [
    "## 🧹 Data Cleaning\n",
    "\n",
    "Before performing analysis, the dataset required some cleaning:\n",
    "- Missing values were found in fields like `country`, `cast`, and `rating`.\n",
    "- We dropped rows with critical missing values in `type`, `title`, and `date_added`.\n",
    "- The `date_added` column was converted to datetime format.\n",
  
   ]
  },
  {
   "cell_type": "code",
   "execution_count": 3,
   "id": "e8214831",
   "metadata": {
    "execution": {
     "iopub.execute_input": "2025-06-16T17:07:01.040876Z",
     "iopub.status.busy": "2025-06-16T17:07:01.040576Z",
     "iopub.status.idle": "2025-06-16T17:07:03.048424Z",
     "shell.execute_reply": "2025-06-16T17:07:03.047481Z"
    },
    "papermill": {
     "duration": 2.013579,
     "end_time": "2025-06-16T17:07:03.049849",
     "exception": false,
     "start_time": "2025-06-16T17:07:01.036270",
     "status": "completed"
    },
    "tags": []
   },
   "outputs": [
    {
     "data": {
      "text/html": [
       "<div>\n",
       "<style scoped>\n",
       "    .dataframe tbody tr th:only-of-type {\n",
       "        vertical-align: middle;\n",
       "    }\n",
       "\n",
       "    .dataframe tbody tr th {\n",
       "        vertical-align: top;\n",
       "    }\n",
       "\n",
       "    .dataframe thead th {\n",
       "        text-align: right;\n",
       "    }\n",
       "</style>\n",
       "<table border=\"1\" class=\"dataframe\">\n",
       "  <thead>\n",
       "    <tr style=\"text-align: right;\">\n",
       "      <th></th>\n",
       "      <th>show_id</th>\n",
       "      <th>type</th>\n",
       "      <th>title</th>\n",
       "      <th>director</th>\n",
       "      <th>cast</th>\n",
       "      <th>country</th>\n",
       "      <th>date_added</th>\n",
       "      <th>release_year</th>\n",
       "      <th>rating</th>\n",
       "      <th>duration</th>\n",
       "      <th>listed_in</th>\n",
       "      <th>description</th>\n",
       "    </tr>\n",
       "  </thead>\n",
       "  <tbody>\n",
       "    <tr>\n",
       "      <th>0</th>\n",
       "      <td>s1</td>\n",
       "      <td>Movie</td>\n",
       "      <td>Dick Johnson Is Dead</td>\n",
       "      <td>Kirsten Johnson</td>\n",
       "      <td>NaN</td>\n",
       "      <td>United States</td>\n",
       "      <td>September 25, 2021</td>\n",
       "      <td>2020</td>\n",
       "      <td>PG-13</td>\n",
       "      <td>90 min</td>\n",
       "      <td>Documentaries</td>\n",
       "      <td>As her father nears the end of his life, filmm...</td>\n",
       "    </tr>\n",
       "    <tr>\n",
       "      <th>1</th>\n",
       "      <td>s2</td>\n",
       "      <td>TV Show</td>\n",
       "      <td>Blood &amp; Water</td>\n",
       "      <td>NaN</td>\n",
       "      <td>Ama Qamata, Khosi Ngema, Gail Mabalane, Thaban...</td>\n",
       "      <td>South Africa</td>\n",
       "      <td>September 24, 2021</td>\n",
       "      <td>2021</td>\n",
       "      <td>TV-MA</td>\n",
       "      <td>2 Seasons</td>\n",
       "      <td>International TV Shows, TV Dramas, TV Mysteries</td>\n",
       "      <td>After crossing paths at a party, a Cape Town t...</td>\n",
       "    </tr>\n",
       "    <tr>\n",
       "      <th>2</th>\n",
       "      <td>s3</td>\n",
       "      <td>TV Show</td>\n",
       "      <td>Ganglands</td>\n",
       "      <td>Julien Leclercq</td>\n",
       "      <td>Sami Bouajila, Tracy Gotoas, Samuel Jouy, Nabi...</td>\n",
       "      <td>NaN</td>\n",
       "      <td>September 24, 2021</td>\n",
       "      <td>2021</td>\n",
       "      <td>TV-MA</td>\n",
       "      <td>1 Season</td>\n",
       "      <td>Crime TV Shows, International TV Shows, TV Act...</td>\n",
       "      <td>To protect his family from a powerful drug lor...</td>\n",
       "    </tr>\n",
       "    <tr>\n",
       "      <th>3</th>\n",
       "      <td>s4</td>\n",
       "      <td>TV Show</td>\n",
       "      <td>Jailbirds New Orleans</td>\n",
       "      <td>NaN</td>\n",
       "      <td>NaN</td>\n",
       "      <td>NaN</td>\n",
       "      <td>September 24, 2021</td>\n",
       "      <td>2021</td>\n",
       "      <td>TV-MA</td>\n",
       "      <td>1 Season</td>\n",
       "      <td>Docuseries, Reality TV</td>\n",
       "      <td>Feuds, flirtations and toilet talk go down amo...</td>\n",
       "    </tr>\n",
       "    <tr>\n",
       "      <th>4</th>\n",
       "      <td>s5</td>\n",
       "      <td>TV Show</td>\n",
       "      <td>Kota Factory</td>\n",
       "      <td>NaN</td>\n",
       "      <td>Mayur More, Jitendra Kumar, Ranjan Raj, Alam K...</td>\n",
       "      <td>India</td>\n",
       "      <td>September 24, 2021</td>\n",
       "      <td>2021</td>\n",
       "      <td>TV-MA</td>\n",
       "      <td>2 Seasons</td>\n",
       "      <td>International TV Shows, Romantic TV Shows, TV ...</td>\n",
       "      <td>In a city of coaching centers known to train I...</td>\n",
       "    </tr>\n",
       "  </tbody>\n",
       "</table>\n",
       "</div>"
      ],
      "text/plain": [
       "  show_id     type                  title         director  \\\n",
       "0      s1    Movie   Dick Johnson Is Dead  Kirsten Johnson   \n",
       "1      s2  TV Show          Blood & Water              NaN   \n",
       "2      s3  TV Show              Ganglands  Julien Leclercq   \n",
       "3      s4  TV Show  Jailbirds New Orleans              NaN   \n",
       "4      s5  TV Show           Kota Factory              NaN   \n",
       "\n",
       "                                                cast        country  \\\n",
       "0                                                NaN  United States   \n",
       "1  Ama Qamata, Khosi Ngema, Gail Mabalane, Thaban...   South Africa   \n",
       "2  Sami Bouajila, Tracy Gotoas, Samuel Jouy, Nabi...            NaN   \n",
       "3                                                NaN            NaN   \n",
       "4  Mayur More, Jitendra Kumar, Ranjan Raj, Alam K...          India   \n",
       "\n",
       "           date_added  release_year rating   duration  \\\n",
       "0  September 25, 2021          2020  PG-13     90 min   \n",
       "1  September 24, 2021          2021  TV-MA  2 Seasons   \n",
       "2  September 24, 2021          2021  TV-MA   1 Season   \n",
       "3  September 24, 2021          2021  TV-MA   1 Season   \n",
       "4  September 24, 2021          2021  TV-MA  2 Seasons   \n",
       "\n",
       "                                           listed_in  \\\n",
       "0                                      Documentaries   \n",
       "1    International TV Shows, TV Dramas, TV Mysteries   \n",
       "2  Crime TV Shows, International TV Shows, TV Act...   \n",
       "3                             Docuseries, Reality TV   \n",
       "4  International TV Shows, Romantic TV Shows, TV ...   \n",
       "\n",
       "                                         description  \n",
       "0  As her father nears the end of his life, filmm...  \n",
       "1  After crossing paths at a party, a Cape Town t...  \n",
       "2  To protect his family from a powerful drug lor...  \n",
       "3  Feuds, flirtations and toilet talk go down amo...  \n",
       "4  In a city of coaching centers known to train I...  "
      ]
     },
     "execution_count": 3,
     "metadata": {},
     "output_type": "execute_result"
    }
   ],
   "source": [
    "# Step 1: Import Libraries\n",
    "import pandas as pd\n",
    "import matplotlib.pyplot as plt\n",
    "import seaborn as sns\n",
    "\n",
    "# Step 2: Load Data\n",
    "df = pd.read_csv('/kaggle/input/netflix-shows/netflix_titles.csv')\n",
    "df.head()\n"
   ]
  },
  {
   "cell_type": "code",
   "execution_count": 4,
   "id": "39d87d24",
   "metadata": {
    "execution": {
     "iopub.execute_input": "2025-06-16T17:07:03.058005Z",
     "iopub.status.busy": "2025-06-16T17:07:03.057732Z",
     "iopub.status.idle": "2025-06-16T17:07:03.094306Z",
     "shell.execute_reply": "2025-06-16T17:07:03.093390Z"
    },
    "papermill": {
     "duration": 0.042261,
     "end_time": "2025-06-16T17:07:03.095708",
     "exception": false,
     "start_time": "2025-06-16T17:07:03.053447",
     "status": "completed"
    },
    "tags": []
   },
   "outputs": [
    {
     "name": "stdout",
     "output_type": "stream",
     "text": [
      "<class 'pandas.core.frame.DataFrame'>\n",
      "RangeIndex: 8807 entries, 0 to 8806\n",
      "Data columns (total 12 columns):\n",
      " #   Column        Non-Null Count  Dtype \n",
      "---  ------        --------------  ----- \n",
      " 0   show_id       8807 non-null   object\n",
      " 1   type          8807 non-null   object\n",
      " 2   title         8807 non-null   object\n",
      " 3   director      6173 non-null   object\n",
      " 4   cast          7982 non-null   object\n",
      " 5   country       7976 non-null   object\n",
      " 6   date_added    8797 non-null   object\n",
      " 7   release_year  8807 non-null   int64 \n",
      " 8   rating        8803 non-null   object\n",
      " 9   duration      8804 non-null   object\n",
      " 10  listed_in     8807 non-null   object\n",
      " 11  description   8807 non-null   object\n",
      "dtypes: int64(1), object(11)\n",
      "memory usage: 825.8+ KB\n"
     ]
    },
    {
     "data": {
      "text/plain": [
       "show_id            0\n",
       "type               0\n",
       "title              0\n",
       "director        2634\n",
       "cast             825\n",
       "country          831\n",
       "date_added        10\n",
       "release_year       0\n",
       "rating             4\n",
       "duration           3\n",
       "listed_in          0\n",
       "description        0\n",
       "dtype: int64"
      ]
     },
     "execution_count": 4,
     "metadata": {},
     "output_type": "execute_result"
    }
   ],
   "source": [
    "df.shape\n",
    "df.info()\n",
    "df.isnull().sum()\n"
   ]
  },
  {
   "cell_type": "markdown",
   "id": "22e89822",
   "metadata": {
    "papermill": {
     "duration": 0.003135,
     "end_time": "2025-06-16T17:07:03.102483",
     "exception": false,
     "start_time": "2025-06-16T17:07:03.099348",
     "status": "completed"
    },
    "tags": []
   },
   "source": []
  },
  {
   "cell_type": "code",
   "execution_count": 5,
   "id": "bc912599",
   "metadata": {
    "execution": {
     "iopub.execute_input": "2025-06-16T17:07:03.110785Z",
     "iopub.status.busy": "2025-06-16T17:07:03.110105Z",
     "iopub.status.idle": "2025-06-16T17:07:03.397276Z",
     "shell.execute_reply": "2025-06-16T17:07:03.396037Z"
    },
    "papermill": {
     "duration": 0.29305,
     "end_time": "2025-06-16T17:07:03.398840",
     "exception": false,
     "start_time": "2025-06-16T17:07:03.105790",
     "status": "completed"
    },
    "tags": []
   },
   "outputs": [
    {
     "data": {
      "image/png": "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\n",
      "text/plain": [
       "<Figure size 640x480 with 1 Axes>"
      ]
     },
     "metadata": {},
     "output_type": "display_data"
    }
   ],
   "source": [
    "df['type'].value_counts().plot(kind='bar', color=['tomato', 'skyblue'])\n",
    "plt.title('Distribution of Content Type')\n",
    "plt.xlabel('Type')\n",
    "plt.ylabel('Count')\n",
    "plt.show()\n",
    "\n"
   ]
  },
  {
   "cell_type": "markdown",
   "id": "34bb47c3",
   "metadata": {
    "papermill": {
     "duration": 0.003589,
     "end_time": "2025-06-16T17:07:03.406716",
     "exception": false,
     "start_time": "2025-06-16T17:07:03.403127",
     "status": "completed"
    },
    "tags": []
   },
   "source": [
    "### 🎥 Content Type Distribution\n",
    "\n",
    "This bar chart shows the count of Movies and TV Shows on Netflix. It reveals that movies make up the majority of the content, more than double the number of TV Shows.\n"
   ]
  },
  {
   "cell_type": "code",
   "execution_count": 6,
   "id": "cd8b7771",
   "metadata": {
    "execution": {
     "iopub.execute_input": "2025-06-16T17:07:03.415588Z",
     "iopub.status.busy": "2025-06-16T17:07:03.415280Z",
     "iopub.status.idle": "2025-06-16T17:07:03.605423Z",
     "shell.execute_reply": "2025-06-16T17:07:03.604394Z"
    },
    "papermill": {
     "duration": 0.196774,
     "end_time": "2025-06-16T17:07:03.607210",
     "exception": false,
     "start_time": "2025-06-16T17:07:03.410436",
     "status": "completed"
    },
    "tags": []
   },
   "outputs": [
    {
     "data": {
      "image/png": "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\n",
      "text/plain": [
       "<Figure size 1000x500 with 1 Axes>"
      ]
     },
     "metadata": {},
     "output_type": "display_data"
    }
   ],
   "source": [
    "top_countries = df['country'].value_counts().head(10)\n",
    "top_countries.plot(kind='bar', figsize=(10,5), color='green')\n",
    "plt.title('Top 10 Countries on Netflix')\n",
    "plt.xticks(rotation=45)\n",
    "plt.show()\n"
   ]
  },
  {
   "cell_type": "markdown",
   "id": "d08071dc",
   "metadata": {
    "papermill": {
     "duration": 0.004366,
     "end_time": "2025-06-16T17:07:03.616715",
     "exception": false,
     "start_time": "2025-06-16T17:07:03.612349",
     "status": "completed"
    },
    "tags": []
   },
   "source": [
    "### 🌍 Top Producing Countries\n",
    "\n",
    "The United States contributes the most Netflix content, followed by India and the United Kingdom. This reflects Netflix’s strong presence in English-speaking countries and its growing investment in Indian content.\n"
   ]
  },
  {
   "cell_type": "code",
   "execution_count": 7,
   "id": "360f2fe8",
   "metadata": {
    "execution": {
     "iopub.execute_input": "2025-06-16T17:07:03.627027Z",
     "iopub.status.busy": "2025-06-16T17:07:03.626732Z",
     "iopub.status.idle": "2025-06-16T17:07:03.837906Z",
     "shell.execute_reply": "2025-06-16T17:07:03.836815Z"
    },
    "papermill": {
     "duration": 0.218607,
     "end_time": "2025-06-16T17:07:03.839879",
     "exception": false,
     "start_time": "2025-06-16T17:07:03.621272",
     "status": "completed"
    },
    "tags": []
   },
   "outputs": [
    {
     "data": {
      "image/png": "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\n",
      "text/plain": [
       "<Figure size 640x480 with 1 Axes>"
      ]
     },
     "metadata": {},
     "output_type": "display_data"
    }
   ],
   "source": [
    "df['listed_in'].str.split(', ', expand=True).stack().value_counts().head(10).plot(kind='bar', color='purple')\n",
    "plt.title('Top 10 Most Common Genres')\n",
    "plt.xticks(rotation=45)\n",
    "plt.show()\n",
    "\n"
   ]
  },
  {
   "cell_type": "markdown",
   "id": "c2e5231f",
   "metadata": {
    "papermill": {
     "duration": 0.006039,
     "end_time": "2025-06-16T17:07:03.852334",
     "exception": false,
     "start_time": "2025-06-16T17:07:03.846295",
     "status": "completed"
    },
    "tags": []
   },
   "source": [
    "### 🎭 Popular Genres\n",
    "\n",
    "Drama, International Movies, and Comedies are the top genres. This suggests that Netflix focuses on emotional, globally relatable, and entertaining content to appeal to a wide audience.\n"
   ]
  },
  {
   "cell_type": "markdown",
   "id": "46b3b919",
   "metadata": {
    "papermill": {
     "duration": 0.005818,
     "end_time": "2025-06-16T17:07:03.864230",
     "exception": false,
     "start_time": "2025-06-16T17:07:03.858412",
     "status": "completed"
    },
    "tags": []
   },
   "source": [
    "## ✅ Conclusion\n",
    "\n",
    "This exploratory data analysis of Netflix content reveals several key insights:\n",
    "\n",
    "- Movies dominate Netflix’s content library.\n",
    "- Most content originates from the US, India, and the UK.\n",
    "- The number of new titles added peaked in 2019 and 2020.\n",
    "- Drama and international content are the most popular genres.\n",
    "\n",
    "These findings reflect Netflix’s strategy of offering diverse, globally appealing content and continuously expanding its library.\n",
    "\n",
    "---\n"
   ]
  }
 ],
 "metadata": {
  "kaggle": {
   "accelerator": "none",
   "dataSources": [
    {
     "datasetId": 434238,
     "sourceId": 2654038,
     "sourceType": "datasetVersion"
    }
   ],
   "dockerImageVersionId": 31040,
   "isGpuEnabled": false,
   "isInternetEnabled": false,
   "language": "python",
   "sourceType": "notebook"
  },
  "kernelspec": {
   "display_name": "Python 3",
   "language": "python",
   "name": "python3"
  },
  "language_info": {
   "codemirror_mode": {
    "name": "ipython",
    "version": 3
   },
   "file_extension": ".py",
   "mimetype": "text/x-python",
   "name": "python",
   "nbconvert_exporter": "python",
   "pygments_lexer": "ipython3",
   "version": "3.11.11"
  },
  "papermill": {
   "default_parameters": {},
   "duration": 10.564435,
   "end_time": "2025-06-16T17:07:04.589997",
   "environment_variables": {},
   "exception": null,
   "input_path": "__notebook__.ipynb",
   "output_path": "__notebook__.ipynb",
   "parameters": {},
   "start_time": "2025-06-16T17:06:54.025562",
   "version": "2.6.0"
  }
 },
 "nbformat": 4,
 "nbformat_minor": 5
}
